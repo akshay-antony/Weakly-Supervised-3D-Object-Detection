{
 "cells": [
  {
   "cell_type": "code",
   "execution_count": 1,
   "metadata": {},
   "outputs": [
    {
     "name": "stderr",
     "output_type": "stream",
     "text": [
      "/home/ubuntu/anaconda3/envs/vlr/lib/python3.9/site-packages/tqdm/auto.py:22: TqdmWarning: IProgress not found. Please update jupyter and ipywidgets. See https://ipywidgets.readthedocs.io/en/stable/user_install.html\n",
      "  from .autonotebook import tqdm as notebook_tqdm\n"
     ]
    }
   ],
   "source": [
    "%load_ext autoreload\n",
    "%autoreload 2\n",
    "from visualize_dataset_new import plot_proposals_gt\n",
    "from dataset import KITTIBEV\n",
    "import torch\n",
    "from torch.utils.data import DataLoader, Dataset"
   ]
  },
  {
   "cell_type": "code",
   "execution_count": 2,
   "metadata": {},
   "outputs": [
    {
     "name": "stdout",
     "output_type": "stream",
     "text": [
      "Preloading Data\n"
     ]
    },
    {
     "name": "stderr",
     "output_type": "stream",
     "text": [
      "                                                    \r"
     ]
    }
   ],
   "source": [
    "valid_data_list_filename = \"./valid_data_list_after_threshold.txt\"\n",
    "lidar_folder_name = \"./data\"\n",
    "\n",
    "dataset = KITTIBEV(valid_data_list_filename=valid_data_list_filename, \n",
    "                   lidar_folder_name=lidar_folder_name)\n"
   ]
  },
  {
   "cell_type": "code",
   "execution_count": 4,
   "metadata": {},
   "outputs": [],
   "source": [
    "import numpy as np\n",
    "dataloader = DataLoader(dataset, batch_size=1, num_workers=0)\n",
    "\n",
    "i = 0\n",
    "for data in dataloader:\n",
    "    # if i <= 10:\n",
    "    #     i += 1 \n",
    "    #     continue\n",
    "    bev = data['bev']\n",
    "    #labels = data['labels']\n",
    "    gt_boxes = data['gt_boxes'].squeeze(0)\n",
    "    proposals = data['proposals'].squeeze(0)\n",
    "    #proposals = torch.cuda.FloatTensor(proposals)\n",
    "    #gt_class_list = data['gt_class_list'].cuda()\n",
    "    gt_boxes = gt_boxes.cpu().detach().numpy()\n",
    "    proposals = proposals.cpu().detach().numpy()\n",
    "    # proposals[:, 0] = 200 - proposals[:, 0]\n",
    "    # proposals[:, 2] = 200 - proposals[:, 2]\n",
    "    #print(gt_boxes.shape, proposals.shape)\n",
    "    if gt_boxes.shape[0] == 0:\n",
    "        print(\"hi\")\n",
    "    #plot_proposals_gt(gt_boxes.astype(np.int32), proposals.astype(np.int32), bev[0])\n",
    "    i += 1\n",
    "    #break\n",
    "    # if i >= 20:\n",
    "    #     break"
   ]
  },
  {
   "cell_type": "code",
   "execution_count": 3,
   "metadata": {},
   "outputs": [
    {
     "ename": "Error",
     "evalue": "Canceled future for execute_request message before replies were done",
     "output_type": "error",
     "traceback": [
      "Error: Canceled future for execute_request message before replies were done",
      "at t.KernelShellFutureHandler.dispose (/home/ubuntu/.vscode-server/extensions/ms-toolsai.jupyter-2022.3.1000901801/out/extension.js:2:1204175)",
      "at /home/ubuntu/.vscode-server/extensions/ms-toolsai.jupyter-2022.3.1000901801/out/extension.js:2:1223227",
      "at Map.forEach (<anonymous>)",
      "at v._clearKernelState (/home/ubuntu/.vscode-server/extensions/ms-toolsai.jupyter-2022.3.1000901801/out/extension.js:2:1223212)",
      "at v.dispose (/home/ubuntu/.vscode-server/extensions/ms-toolsai.jupyter-2022.3.1000901801/out/extension.js:2:1216694)",
      "at /home/ubuntu/.vscode-server/extensions/ms-toolsai.jupyter-2022.3.1000901801/out/extension.js:2:533674",
      "at t.swallowExceptions (/home/ubuntu/.vscode-server/extensions/ms-toolsai.jupyter-2022.3.1000901801/out/extension.js:2:913059)",
      "at dispose (/home/ubuntu/.vscode-server/extensions/ms-toolsai.jupyter-2022.3.1000901801/out/extension.js:2:533652)",
      "at t.RawSession.dispose (/home/ubuntu/.vscode-server/extensions/ms-toolsai.jupyter-2022.3.1000901801/out/extension.js:2:537330)",
      "at runMicrotasks (<anonymous>)",
      "at processTicksAndRejections (node:internal/process/task_queues:96:5)"
     ]
    }
   ],
   "source": [
    "import numpy as np\n",
    "dataloader = DataLoader(dataset, batch_size=1)\n",
    "i = 0\n",
    "for data in dataloader:\n",
    "    # if i <= 10:\n",
    "    #     i += 1 \n",
    "    #     continue\n",
    "    bev = data['bev']\n",
    "    #labels = data['labels']\n",
    "    gt_boxes = data['gt_boxes'].squeeze(0)\n",
    "    proposals = data['proposals'].squeeze(0)\n",
    "    #proposals = torch.cuda.FloatTensor(proposals)\n",
    "    #gt_class_list = data['gt_class_list'].cuda()\n",
    "    gt_boxes = gt_boxes.cpu().detach().numpy()\n",
    "    proposals = proposals.cpu().detach().numpy()\n",
    "    # proposals[:, 0] = 800 - proposals[:, 0]\n",
    "    # proposals[:, 2] = 800 - proposals[:, 2]\n",
    "    # print(gt_boxes.shape, proposals.shape)\n",
    "    # plot_proposals_gt(gt_boxes.astype(np.int32), proposals.astype(np.int32), bev[0])\n",
    "    i += 1\n",
    "    break\n",
    "    if i >= 20:\n",
    "        break"
   ]
  },
  {
   "cell_type": "code",
   "execution_count": 1,
   "metadata": {},
   "outputs": [],
   "source": [
    "import numpy as np\n"
   ]
  },
  {
   "cell_type": "code",
   "execution_count": 2,
   "metadata": {},
   "outputs": [
    {
     "data": {
      "text/plain": [
       "array([0, 2, 3])"
      ]
     },
     "execution_count": 2,
     "metadata": {},
     "output_type": "execute_result"
    }
   ],
   "source": [
    "x = np.asarray([1, 2, 3])\n",
    "x[0] = np.where(x[0] >= 2, 2, x[0]-1)\n",
    "x"
   ]
  },
  {
   "cell_type": "code",
   "execution_count": null,
   "metadata": {},
   "outputs": [],
   "source": []
  }
 ],
 "metadata": {
  "interpreter": {
   "hash": "f6dc8923dcba00e7f32aa42702919531caa53dcff736e5618b63e08fc6f62723"
  },
  "kernelspec": {
   "display_name": "Python 3.9.6 ('cve')",
   "language": "python",
   "name": "python3"
  },
  "language_info": {
   "codemirror_mode": {
    "name": "ipython",
    "version": 3
   },
   "file_extension": ".py",
   "mimetype": "text/x-python",
   "name": "python",
   "nbconvert_exporter": "python",
   "pygments_lexer": "ipython3",
   "version": "3.9.12"
  },
  "orig_nbformat": 4
 },
 "nbformat": 4,
 "nbformat_minor": 2
}

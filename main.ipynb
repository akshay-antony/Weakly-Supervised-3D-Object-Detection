{
 "cells": [
  {
   "cell_type": "code",
   "execution_count": 1,
   "metadata": {},
   "outputs": [
    {
     "name": "stderr",
     "output_type": "stream",
     "text": [
      "/home/ubuntu/anaconda3/envs/vlr/lib/python3.9/site-packages/tqdm/auto.py:22: TqdmWarning: IProgress not found. Please update jupyter and ipywidgets. See https://ipywidgets.readthedocs.io/en/stable/user_install.html\n",
      "  from .autonotebook import tqdm as notebook_tqdm\n"
     ]
    }
   ],
   "source": [
    "%load_ext autoreload\n",
    "%autoreload 2\n",
    "from multiprocessing import reduction\n",
    "import torch\n",
    "import torch.nn as nn\n",
    "import numpy as np\n",
    "from tqdm import tqdm\n",
    "from WsdnnPIXOR import WSDDNPIXOR\n",
    "from dataset import KITTIBEV\n",
    "from torch.utils.data import random_split\n",
    "from torch.utils.data import DataLoader\n",
    "from torchvision.ops import nms\n",
    "from post_processing import calculate_ap\n",
    "import wandb\n",
    "import math\n",
    "import sklearn\n",
    "import sklearn.metrics\n",
    "from visualize_dataset_new import plot_bev"
   ]
  },
  {
   "cell_type": "code",
   "execution_count": 2,
   "metadata": {},
   "outputs": [],
   "source": [
    "def load_pretrained(model, filename='40epoch'):\n",
    "    own_state = model.state_dict()\n",
    "    state_dict = torch.load(filename)\n",
    "    for name, param in state_dict.items():\n",
    "        if name not in own_state:\n",
    "                continue\n",
    "        if isinstance(param, nn.Parameter):\n",
    "            # backwards compatibility for serialized parameters\n",
    "            param = param.data\n",
    "        own_state[name].copy_(param)"
   ]
  },
  {
   "cell_type": "code",
   "execution_count": 3,
   "metadata": {},
   "outputs": [],
   "source": [
    "def train(train_loader, \n",
    "          model, \n",
    "          loss_fn,\n",
    "          optimizer, \n",
    "          test_loader):\n",
    "    loss_total = 0.0\n",
    "    data_count = 0.0\n",
    "    total_target = torch.zeros((0, 8)).cuda()\n",
    "    total_preds = torch.zeros((0, 8)).cuda()\n",
    "    for iter, data in tqdm(enumerate(train_loader),\n",
    "                           total=len(train_loader),\n",
    "                           leave=False):\n",
    "        model = model.train()\n",
    "        bev = data['bev'].cuda()\n",
    "        labels = data['labels'].cuda()\n",
    "        #gt_boxes = data['gt_boxes'].cuda()\n",
    "        proposals = data['proposals'].squeeze().float().cuda()\n",
    "        proposals = torch.cuda.FloatTensor(proposals)\n",
    "        #gt_class_list = data['gt_class_list'].cuda()\n",
    "        #with torch.cuda.amp.autocast():\n",
    "        preds = model(bev, proposals)\n",
    "        preds_class = preds.sum(dim=0).reshape(1, -1)\n",
    "        preds_class_sigmoid = torch.sigmoid(preds_class)\n",
    "        total_preds = torch.cat([total_preds, preds_class_sigmoid], dim=0)\n",
    "        total_target = torch.cat([total_target, labels], dim=0)\n",
    "        preds_class = torch.clamp(preds_class, 0, 1)\n",
    "        loss = loss_fn(preds_class, labels)\n",
    "\n",
    "        optimizer.zero_grad()\n",
    "        loss.backward()\n",
    "        optimizer.step()\n",
    "        # scaler.scale(loss).backward()\n",
    "        # scaler.step(optimizer)\n",
    "        # scaler.update()\n",
    "\n",
    "        loss_total += loss.item() * bev.shape[0]\n",
    "        data_count += bev.shape[0]\n",
    "        if iter%500 == 0 and iter != 0:\n",
    "            map_class = map_classification(total_preds, total_target)\n",
    "            wandb.log({\"Loss\":loss_total / data_count})\n",
    "            print(\"Loss: \", loss_total / data_count, \" mAP: \", map_class)\n",
    "        # if iter%5000 == 0 and iter != 0:\n",
    "        #     model.eval()\n",
    "        #     validate(test_loader, model, loss_fn)\n",
    "    return loss_total / data_count"
   ]
  },
  {
   "cell_type": "code",
   "execution_count": 4,
   "metadata": {},
   "outputs": [],
   "source": [
    "def validate(test_loader, \n",
    "             model, \n",
    "             loss_fn, \n",
    "             score_threshold=0.005,\n",
    "             nms_iou_threshold=0.5,\n",
    "             iou_list = [0.05, 0.1, 0.2, 0.3, 0.4],\n",
    "             inv_class=None,\n",
    "             direct_class=None):\n",
    "    np.random.seed(2)\n",
    "    num_classes = 8\n",
    "    loss_total = 0.0\n",
    "    data_count = 0.0\n",
    "    all_gt_boxes = torch.zeros((0, 6))\n",
    "    all_pred_boxes = torch.zeros((0, 7))\n",
    "    plotting_idxs = np.random.randint(0, 10, (5))\n",
    "\n",
    "    with torch.no_grad():\n",
    "        for iter, data in tqdm(enumerate(test_loader),\n",
    "                            total=len(test_loader),\n",
    "                            leave=False):\n",
    "            plotting_proposals = torch.zeros((0, 5))\n",
    "            plotting_gts = torch.zeros((0, 5))\n",
    "            bev = data['bev'].cuda()\n",
    "            labels = data['labels'].cuda()\n",
    "            gt_boxes = data['gt_boxes'].reshape(-1, 4) #.cuda()\n",
    "            proposals = data['proposals'].squeeze().float().cuda()\n",
    "            gt_class_list = data['gt_class_list'].reshape(-1) #.cuda()\n",
    "\n",
    "            cls_probs = model(bev, proposals)\n",
    "            preds_class = cls_probs.sum(dim=0).reshape(1, -1)\n",
    "            loss = loss_fn(preds_class, labels)\n",
    "            loss_total += loss.item()\n",
    "            data_count += bev.shape[0]\n",
    "\n",
    "            for i in range(gt_boxes.shape[0]):\n",
    "                modified_boxes = torch.cat([torch.tensor([iter, gt_class_list[i]]), gt_boxes[i]]).reshape(1, -1)\n",
    "                all_gt_boxes = torch.cat([all_gt_boxes, modified_boxes], dim=0)\n",
    "                plotting_gts = torch.cat([plotting_gts,\n",
    "                                          modified_boxes[1:].reshape(1, -1)], dim=0)\n",
    "\n",
    "            for class_num in range(num_classes):\n",
    "                curr_class_scores = cls_probs[:, class_num]\n",
    "                valid_score_idx = torch.where(curr_class_scores >= score_threshold)\n",
    "                valid_scores = curr_class_scores[valid_score_idx]\n",
    "                valid_proposals = proposals[valid_score_idx]\n",
    "                retained_idx = nms(valid_proposals, valid_scores, nms_iou_threshold)\n",
    "                retained_scores = valid_scores[retained_idx]\n",
    "                retained_proposals = valid_proposals[retained_idx]\n",
    "\n",
    "                class_num_for_plotting = torch.ones((retained_proposals.shape[0], 1)) * class_num\n",
    "                plotting_proposals = torch.cat([plotting_proposals,\n",
    "                                                torch.cat([retained_proposals, \n",
    "                                                           class_num_for_plotting], dim=1)], dim=0)\n",
    "\n",
    "                for i in range(retained_proposals.shape[0]):\n",
    "                    modified_pred_boxes = torch.cat([torch.tensor([iter, class_num, retained_scores[i]]), \n",
    "                                                                retained_proposals[i].detach().cpu()]).reshape(1, -1)\n",
    "                    all_pred_boxes = torch.cat([all_pred_boxes, modified_pred_boxes], dim=0)\n",
    "\n",
    "            if iter in plotting_idxs:\n",
    "                all_boxes = []\n",
    "                gt_boxes = []\n",
    "                raw_image = plot_bev(bev.detach().cpu())\n",
    "                for idx in range(plotting_proposals.shape[0]):\n",
    "                    box_data = {\"position\": {\n",
    "                        \"minX\": plotting_proposals[idx][0],\n",
    "                        \"minY\": plotting_proposals[idx][1],\n",
    "                        \"maxX\": plotting_proposals[idx][2],\n",
    "                        \"maxY\": plotting_proposals[idx][3]},\n",
    "                        \"class_id\": plotting_proposals[idx][4],\n",
    "                        \"box_caption\": inv_class[plotting_proposals[idx][4]],\n",
    "                        }\n",
    "                    all_boxes.append(box_data)\n",
    "                \n",
    "\n",
    "                for idx in range(plotting_gts.shape[0]):\n",
    "                    box_data = {\"position\": {\n",
    "                        \"minX\": plotting_gts[idx][0],\n",
    "                        \"minY\": plotting_gts[idx][1],\n",
    "                        \"maxX\": plotting_gts[idx][2],\n",
    "                        \"maxY\": plotting_gts[idx][3]},\n",
    "                        \"class_id\": plotting_gts[idx][4],\n",
    "                        \"box_caption\": inv_class[plotting_gts[idx][4]],\n",
    "                        }\n",
    "                    gt_boxes.append(box_data)\n",
    "\n",
    "                box_image = wandb.Image(raw_image, \n",
    "                                        boxes={\"predictions\":\n",
    "                                        {\"box_data\": all_boxes,\n",
    "                                        \"class_labels\": inv_class},\n",
    "                                             \"ground_truth\":\n",
    "                                        {\"box_data\": gt_boxes,\n",
    "                                        \"class_labels\": inv_class}})\n",
    "                \n",
    "    for iou in iou_list:\n",
    "        #print(all_gt_boxes.shape, all_gt_boxes.shape)\n",
    "        AP = calculate_ap(all_pred_boxes, all_gt_boxes, iou, inv_class=inv_class)\n",
    "        mAP = 0 if len(AP) == 0 else sum(AP) / len(AP)\n",
    "        #return mAP.item(), AP\n",
    "        wandb.log({\"map@ \" + str(iou): mAP})\n",
    "        print(\"Iou \", iou, \" mAP \", mAP)\n",
    "    return mAP"
   ]
  },
  {
   "cell_type": "code",
   "execution_count": 5,
   "metadata": {},
   "outputs": [],
   "source": [
    "def map_classification(output, target):\n",
    "    target = target.detach().cpu().numpy()\n",
    "    output = output.detach().cpu().numpy()\n",
    "    num_classes = target.shape[1]\n",
    "    ap = []\n",
    "    for class_id in range(num_classes):\n",
    "        output_req = output[:, class_id].astype('float32')\n",
    "        target_req = target[:, class_id].astype('float32')\n",
    "        output_req = output_req - 1e-5*target_req\n",
    "        if np.sum(target_req) == 0:\n",
    "            #ap.append(0)    \n",
    "            continue\n",
    "        curr_ap = sklearn.metrics.average_precision_score(target_req, output_req, average=None)\n",
    "        if not math.isnan(curr_ap):\n",
    "            ap.append(curr_ap)\n",
    "    return sum(ap) / (len(ap) if len(ap) > 0 else 1)"
   ]
  },
  {
   "cell_type": "code",
   "execution_count": 7,
   "metadata": {},
   "outputs": [
    {
     "name": "stdout",
     "output_type": "stream",
     "text": [
      "Preloading Data\n"
     ]
    },
    {
     "name": "stderr",
     "output_type": "stream",
     "text": [
      "                                                    \r"
     ]
    }
   ],
   "source": [
    "valid_data_list_filename = \"./valid_data_list_after_threshold.txt\"\n",
    "lidar_folder_name = \"./data\"\n",
    "dataset = KITTIBEV(valid_data_list_filename=valid_data_list_filename, \n",
    "                        lidar_folder_name=lidar_folder_name)"
   ]
  },
  {
   "cell_type": "code",
   "execution_count": 8,
   "metadata": {},
   "outputs": [
    {
     "name": "stderr",
     "output_type": "stream",
     "text": [
      "Failed to detect the name of this notebook, you can set it manually with the WANDB_NOTEBOOK_NAME environment variable to enable code saving.\n",
      "\u001b[34m\u001b[1mwandb\u001b[0m: Currently logged in as: \u001b[33makshayantony12\u001b[0m (use `wandb login --relogin` to force relogin)\n"
     ]
    },
    {
     "data": {
      "text/html": [
       "Tracking run with wandb version 0.12.15"
      ],
      "text/plain": [
       "<IPython.core.display.HTML object>"
      ]
     },
     "metadata": {},
     "output_type": "display_data"
    },
    {
     "data": {
      "text/html": [
       "Run data is saved locally in <code>/home/ubuntu/vlr_project/wandb/run-20220425_080849-1l45lqh6</code>"
      ],
      "text/plain": [
       "<IPython.core.display.HTML object>"
      ]
     },
     "metadata": {},
     "output_type": "display_data"
    },
    {
     "data": {
      "text/html": [
       "Syncing run <strong><a href=\"https://wandb.ai/akshayantony12/vlr_project/runs/1l45lqh6\" target=\"_blank\">ethereal-lake-36</a></strong> to <a href=\"https://wandb.ai/akshayantony12/vlr_project\" target=\"_blank\">Weights & Biases</a> (<a href=\"https://wandb.me/run\" target=\"_blank\">docs</a>)<br/>"
      ],
      "text/plain": [
       "<IPython.core.display.HTML object>"
      ]
     },
     "metadata": {},
     "output_type": "display_data"
    },
    {
     "name": "stdout",
     "output_type": "stream",
     "text": [
      "4087 1753\n"
     ]
    },
    {
     "name": "stderr",
     "output_type": "stream",
     "text": [
      " 12%|█▏        | 501/4087 [02:48<20:24,  2.93it/s]"
     ]
    },
    {
     "name": "stdout",
     "output_type": "stream",
     "text": [
      "Loss:  5.325825215838698  mAP:  0.22669957982641573\n"
     ]
    },
    {
     "name": "stderr",
     "output_type": "stream",
     "text": [
      " 24%|██▍       | 1001/4087 [05:39<17:38,  2.91it/s]"
     ]
    },
    {
     "name": "stdout",
     "output_type": "stream",
     "text": [
      "Loss:  5.312571852585266  mAP:  0.22789770326149725\n"
     ]
    },
    {
     "name": "stderr",
     "output_type": "stream",
     "text": [
      " 37%|███▋      | 1501/4087 [08:30<14:45,  2.92it/s]"
     ]
    },
    {
     "name": "stdout",
     "output_type": "stream",
     "text": [
      "Loss:  5.3034846243891405  mAP:  0.23093919114897032\n"
     ]
    },
    {
     "name": "stderr",
     "output_type": "stream",
     "text": [
      " 49%|████▉     | 2001/4087 [11:22<12:11,  2.85it/s]"
     ]
    },
    {
     "name": "stdout",
     "output_type": "stream",
     "text": [
      "Loss:  5.303936238258655  mAP:  0.22994695160739279\n"
     ]
    },
    {
     "name": "stderr",
     "output_type": "stream",
     "text": [
      " 61%|██████    | 2501/4087 [14:14<09:07,  2.90it/s]"
     ]
    },
    {
     "name": "stdout",
     "output_type": "stream",
     "text": [
      "Loss:  5.299009358073982  mAP:  0.23136117098108483\n"
     ]
    },
    {
     "name": "stderr",
     "output_type": "stream",
     "text": [
      " 73%|███████▎  | 3001/4087 [17:06<06:20,  2.85it/s]"
     ]
    },
    {
     "name": "stdout",
     "output_type": "stream",
     "text": [
      "Loss:  5.303721556938808  mAP:  0.23178087167884623\n"
     ]
    },
    {
     "name": "stderr",
     "output_type": "stream",
     "text": [
      " 86%|████████▌ | 3501/4087 [19:59<03:24,  2.86it/s]"
     ]
    },
    {
     "name": "stdout",
     "output_type": "stream",
     "text": [
      "Loss:  5.305659636937453  mAP:  0.23201140152000904\n"
     ]
    },
    {
     "name": "stderr",
     "output_type": "stream",
     "text": [
      " 98%|█████████▊| 4001/4087 [22:52<00:29,  2.88it/s]"
     ]
    },
    {
     "name": "stdout",
     "output_type": "stream",
     "text": [
      "Loss:  5.305363758245663  mAP:  0.23175081023397476\n"
     ]
    },
    {
     "name": "stderr",
     "output_type": "stream",
     "text": [
      "                                                   \r"
     ]
    },
    {
     "name": "stdout",
     "output_type": "stream",
     "text": [
      "Epoch average Loss:  5.30510778257067\n"
     ]
    },
    {
     "name": "stderr",
     "output_type": "stream",
     "text": [
      "                                                   \r"
     ]
    },
    {
     "name": "stdout",
     "output_type": "stream",
     "text": [
      "Iou  0.05  mAP  tensor(0.0048)\n",
      "Iou  0.1  mAP  tensor(0.0032)\n",
      "Iou  0.2  mAP  tensor(0.0017)\n",
      "Iou  0.3  mAP  tensor(0.0011)\n",
      "Iou  0.4  mAP  tensor(0.0006)\n"
     ]
    },
    {
     "name": "stderr",
     "output_type": "stream",
     "text": [
      " 12%|█▏        | 501/4087 [03:05<22:30,  2.66it/s]"
     ]
    },
    {
     "name": "stdout",
     "output_type": "stream",
     "text": [
      "Loss:  5.291040490080661  mAP:  0.2292361879960516\n"
     ]
    },
    {
     "name": "stderr",
     "output_type": "stream",
     "text": [
      " 24%|██▍       | 1001/4087 [06:12<19:05,  2.69it/s]"
     ]
    },
    {
     "name": "stdout",
     "output_type": "stream",
     "text": [
      "Loss:  5.294163115161537  mAP:  0.23206351023653607\n"
     ]
    },
    {
     "name": "stderr",
     "output_type": "stream",
     "text": [
      " 37%|███▋      | 1501/4087 [09:19<16:20,  2.64it/s]"
     ]
    },
    {
     "name": "stdout",
     "output_type": "stream",
     "text": [
      "Loss:  5.2945391502793  mAP:  0.23319444701285097\n"
     ]
    },
    {
     "name": "stderr",
     "output_type": "stream",
     "text": [
      " 49%|████▉     | 2001/4087 [12:28<13:22,  2.60it/s]"
     ]
    },
    {
     "name": "stdout",
     "output_type": "stream",
     "text": [
      "Loss:  5.29522701559351  mAP:  0.2329242457855264\n"
     ]
    },
    {
     "name": "stderr",
     "output_type": "stream",
     "text": [
      " 61%|██████    | 2501/4087 [15:39<10:08,  2.61it/s]"
     ]
    },
    {
     "name": "stdout",
     "output_type": "stream",
     "text": [
      "Loss:  5.300038084744701  mAP:  0.23194196200741202\n"
     ]
    },
    {
     "name": "stderr",
     "output_type": "stream",
     "text": [
      " 73%|███████▎  | 3001/4087 [18:50<07:03,  2.56it/s]"
     ]
    },
    {
     "name": "stdout",
     "output_type": "stream",
     "text": [
      "Loss:  5.302579556112078  mAP:  0.2324184415509369\n"
     ]
    },
    {
     "name": "stderr",
     "output_type": "stream",
     "text": [
      " 86%|████████▌ | 3501/4087 [22:05<03:51,  2.53it/s]"
     ]
    },
    {
     "name": "stdout",
     "output_type": "stream",
     "text": [
      "Loss:  5.301253142809168  mAP:  0.23162401970726393\n"
     ]
    },
    {
     "name": "stderr",
     "output_type": "stream",
     "text": [
      " 98%|█████████▊| 4001/4087 [25:00<00:29,  2.88it/s]"
     ]
    },
    {
     "name": "stdout",
     "output_type": "stream",
     "text": [
      "Loss:  5.3015079345398854  mAP:  0.23196739794074384\n"
     ]
    },
    {
     "name": "stderr",
     "output_type": "stream",
     "text": [
      "                                                   \r"
     ]
    },
    {
     "name": "stdout",
     "output_type": "stream",
     "text": [
      "Epoch average Loss:  5.3018224507459895\n"
     ]
    },
    {
     "name": "stderr",
     "output_type": "stream",
     "text": [
      "                                                   \r"
     ]
    },
    {
     "name": "stdout",
     "output_type": "stream",
     "text": [
      "Iou  0.05  mAP  tensor(0.0052)\n",
      "Iou  0.1  mAP  tensor(0.0035)\n",
      "Iou  0.2  mAP  tensor(0.0018)\n",
      "Iou  0.3  mAP  tensor(0.0012)\n",
      "Iou  0.4  mAP  tensor(0.0007)\n"
     ]
    },
    {
     "name": "stderr",
     "output_type": "stream",
     "text": [
      " 12%|█▏        | 501/4087 [02:51<20:26,  2.92it/s]"
     ]
    },
    {
     "name": "stdout",
     "output_type": "stream",
     "text": [
      "Loss:  5.299024526140128  mAP:  0.2346344457843875\n"
     ]
    },
    {
     "name": "stderr",
     "output_type": "stream",
     "text": [
      " 24%|██▍       | 1001/4087 [05:44<17:50,  2.88it/s]"
     ]
    },
    {
     "name": "stdout",
     "output_type": "stream",
     "text": [
      "Loss:  5.291166130041765  mAP:  0.23312971650966297\n"
     ]
    },
    {
     "name": "stderr",
     "output_type": "stream",
     "text": [
      " 37%|███▋      | 1501/4087 [08:37<15:00,  2.87it/s]"
     ]
    },
    {
     "name": "stdout",
     "output_type": "stream",
     "text": [
      "Loss:  5.290541830523754  mAP:  0.2342648189422035\n"
     ]
    },
    {
     "name": "stderr",
     "output_type": "stream",
     "text": [
      " 49%|████▉     | 2001/4087 [11:30<12:06,  2.87it/s]"
     ]
    },
    {
     "name": "stdout",
     "output_type": "stream",
     "text": [
      "Loss:  5.299225026288636  mAP:  0.23262151087657393\n"
     ]
    },
    {
     "name": "stderr",
     "output_type": "stream",
     "text": [
      " 61%|██████    | 2501/4087 [14:23<09:03,  2.92it/s]"
     ]
    },
    {
     "name": "stdout",
     "output_type": "stream",
     "text": [
      "Loss:  5.300437932467699  mAP:  0.2334759110460061\n"
     ]
    },
    {
     "name": "stderr",
     "output_type": "stream",
     "text": [
      " 73%|███████▎  | 3001/4087 [17:17<06:18,  2.87it/s]"
     ]
    },
    {
     "name": "stdout",
     "output_type": "stream",
     "text": [
      "Loss:  5.302912781460503  mAP:  0.23178445276293974\n"
     ]
    },
    {
     "name": "stderr",
     "output_type": "stream",
     "text": [
      " 86%|████████▌ | 3501/4087 [20:11<03:27,  2.83it/s]"
     ]
    },
    {
     "name": "stdout",
     "output_type": "stream",
     "text": [
      "Loss:  5.303252570853221  mAP:  0.2330200739443815\n"
     ]
    },
    {
     "name": "stderr",
     "output_type": "stream",
     "text": [
      " 98%|█████████▊| 4001/4087 [23:05<00:30,  2.87it/s]"
     ]
    },
    {
     "name": "stdout",
     "output_type": "stream",
     "text": [
      "Loss:  5.300758120272656  mAP:  0.23257510779354407\n"
     ]
    },
    {
     "name": "stderr",
     "output_type": "stream",
     "text": [
      "                                                   \r"
     ]
    },
    {
     "name": "stdout",
     "output_type": "stream",
     "text": [
      "Epoch average Loss:  5.3018224493745665\n"
     ]
    },
    {
     "name": "stderr",
     "output_type": "stream",
     "text": [
      "                                                   \r"
     ]
    },
    {
     "name": "stdout",
     "output_type": "stream",
     "text": [
      "Iou  0.05  mAP  tensor(0.0049)\n",
      "Iou  0.1  mAP  tensor(0.0033)\n",
      "Iou  0.2  mAP  tensor(0.0017)\n",
      "Iou  0.3  mAP  tensor(0.0011)\n",
      "Iou  0.4  mAP  tensor(0.0006)\n"
     ]
    },
    {
     "name": "stderr",
     "output_type": "stream",
     "text": [
      " 12%|█▏        | 501/4087 [02:52<20:27,  2.92it/s]"
     ]
    },
    {
     "name": "stdout",
     "output_type": "stream",
     "text": [
      "Loss:  5.293036506250171  mAP:  0.23631911465730915\n"
     ]
    },
    {
     "name": "stderr",
     "output_type": "stream",
     "text": [
      " 24%|██▍       | 1001/4087 [05:45<17:59,  2.86it/s]"
     ]
    },
    {
     "name": "stdout",
     "output_type": "stream",
     "text": [
      "Loss:  5.302155119235926  mAP:  0.2353072410994453\n"
     ]
    },
    {
     "name": "stderr",
     "output_type": "stream",
     "text": [
      " 37%|███▋      | 1501/4087 [08:39<14:59,  2.88it/s]"
     ]
    },
    {
     "name": "stdout",
     "output_type": "stream",
     "text": [
      "Loss:  5.307863600210987  mAP:  0.233763837061354\n"
     ]
    },
    {
     "name": "stderr",
     "output_type": "stream",
     "text": [
      " 49%|████▉     | 2001/4087 [11:33<12:10,  2.85it/s]"
     ]
    },
    {
     "name": "stdout",
     "output_type": "stream",
     "text": [
      "Loss:  5.300224514881074  mAP:  0.23367129022296496\n"
     ]
    },
    {
     "name": "stderr",
     "output_type": "stream",
     "text": [
      " 61%|██████    | 2501/4087 [14:28<09:20,  2.83it/s]"
     ]
    },
    {
     "name": "stdout",
     "output_type": "stream",
     "text": [
      "Loss:  5.302437124013689  mAP:  0.2324594325798901\n"
     ]
    },
    {
     "name": "stderr",
     "output_type": "stream",
     "text": [
      " 73%|███████▎  | 3001/4087 [17:23<06:21,  2.85it/s]"
     ]
    },
    {
     "name": "stdout",
     "output_type": "stream",
     "text": [
      "Loss:  5.302912776159432  mAP:  0.2322491445705285\n"
     ]
    },
    {
     "name": "stderr",
     "output_type": "stream",
     "text": [
      " 86%|████████▌ | 3501/4087 [20:18<03:27,  2.83it/s]"
     ]
    },
    {
     "name": "stdout",
     "output_type": "stream",
     "text": [
      "Loss:  5.300967502987018  mAP:  0.2329863407108694\n"
     ]
    },
    {
     "name": "stderr",
     "output_type": "stream",
     "text": [
      " 98%|█████████▊| 4001/4087 [23:14<00:30,  2.80it/s]"
     ]
    },
    {
     "name": "stdout",
     "output_type": "stream",
     "text": [
      "Loss:  5.300758118949598  mAP:  0.2329969885920553\n"
     ]
    },
    {
     "name": "stderr",
     "output_type": "stream",
     "text": [
      "                                                   \r"
     ]
    },
    {
     "name": "stdout",
     "output_type": "stream",
     "text": [
      "Epoch average Loss:  5.301822447637335\n"
     ]
    },
    {
     "name": "stderr",
     "output_type": "stream",
     "text": [
      "                                                   \r"
     ]
    },
    {
     "name": "stdout",
     "output_type": "stream",
     "text": [
      "Iou  0.05  mAP  tensor(0.0049)\n",
      "Iou  0.1  mAP  tensor(0.0033)\n",
      "Iou  0.2  mAP  tensor(0.0018)\n",
      "Iou  0.3  mAP  tensor(0.0011)\n",
      "Iou  0.4  mAP  tensor(0.0007)\n"
     ]
    },
    {
     "name": "stderr",
     "output_type": "stream",
     "text": [
      " 12%|█▏        | 501/4087 [02:51<20:32,  2.91it/s]"
     ]
    },
    {
     "name": "stdout",
     "output_type": "stream",
     "text": [
      "Loss:  5.314992603803881  mAP:  0.23287882172338226\n"
     ]
    },
    {
     "name": "stderr",
     "output_type": "stream",
     "text": [
      " 24%|██▍       | 1001/4087 [05:43<17:57,  2.86it/s]"
     ]
    },
    {
     "name": "stdout",
     "output_type": "stream",
     "text": [
      "Loss:  5.310147136823429  mAP:  0.2337748438211644\n"
     ]
    },
    {
     "name": "stderr",
     "output_type": "stream",
     "text": [
      " 37%|███▋      | 1501/4087 [08:35<14:56,  2.89it/s]"
     ]
    },
    {
     "name": "stdout",
     "output_type": "stream",
     "text": [
      "Loss:  5.311194719469741  mAP:  0.23283528542781598\n"
     ]
    },
    {
     "name": "stderr",
     "output_type": "stream",
     "text": [
      " 49%|████▉     | 2001/4087 [11:28<12:07,  2.87it/s]"
     ]
    },
    {
     "name": "stdout",
     "output_type": "stream",
     "text": [
      "Loss:  5.3082205219888055  mAP:  0.23606285401757052\n"
     ]
    },
    {
     "name": "stderr",
     "output_type": "stream",
     "text": [
      " 61%|██████    | 2501/4087 [14:21<09:15,  2.85it/s]"
     ]
    },
    {
     "name": "stdout",
     "output_type": "stream",
     "text": [
      "Loss:  5.304436328174569  mAP:  0.23564090264714804\n"
     ]
    },
    {
     "name": "stderr",
     "output_type": "stream",
     "text": [
      " 73%|███████▎  | 3001/4087 [17:13<06:21,  2.85it/s]"
     ]
    },
    {
     "name": "stdout",
     "output_type": "stream",
     "text": [
      "Loss:  5.306245002531613  mAP:  0.23517361466018896\n"
     ]
    },
    {
     "name": "stderr",
     "output_type": "stream",
     "text": [
      " 86%|████████▌ | 3501/4087 [20:08<03:25,  2.85it/s]"
     ]
    },
    {
     "name": "stdout",
     "output_type": "stream",
     "text": [
      "Loss:  5.306680160207245  mAP:  0.23341261319417986\n"
     ]
    },
    {
     "name": "stderr",
     "output_type": "stream",
     "text": [
      " 98%|█████████▊| 4001/4087 [23:03<00:30,  2.80it/s]"
     ]
    },
    {
     "name": "stdout",
     "output_type": "stream",
     "text": [
      "Loss:  5.301757867939507  mAP:  0.23319840241018627\n"
     ]
    },
    {
     "name": "stderr",
     "output_type": "stream",
     "text": [
      "                                                   \r"
     ]
    },
    {
     "name": "stdout",
     "output_type": "stream",
     "text": [
      "Epoch average Loss:  5.301822446437536\n"
     ]
    },
    {
     "name": "stderr",
     "output_type": "stream",
     "text": [
      "                                                   \r"
     ]
    },
    {
     "name": "stdout",
     "output_type": "stream",
     "text": [
      "Iou  0.05  mAP  tensor(0.0054)\n",
      "Iou  0.1  mAP  tensor(0.0036)\n",
      "Iou  0.2  mAP  tensor(0.0019)\n",
      "Iou  0.3  mAP  tensor(0.0012)\n",
      "Iou  0.4  mAP  tensor(0.0007)\n"
     ]
    },
    {
     "name": "stderr",
     "output_type": "stream",
     "text": [
      " 12%|█▏        | 501/4087 [02:53<20:52,  2.86it/s]"
     ]
    },
    {
     "name": "stdout",
     "output_type": "stream",
     "text": [
      "Loss:  5.275072419397512  mAP:  0.23503405081415352\n"
     ]
    },
    {
     "name": "stderr",
     "output_type": "stream",
     "text": [
      " 24%|██▍       | 1001/4087 [05:45<18:06,  2.84it/s]"
     ]
    },
    {
     "name": "stdout",
     "output_type": "stream",
     "text": [
      "Loss:  5.296161105882663  mAP:  0.2336793671849838\n"
     ]
    },
    {
     "name": "stderr",
     "output_type": "stream",
     "text": [
      " 37%|███▋      | 1501/4087 [08:38<15:13,  2.83it/s]"
     ]
    },
    {
     "name": "stdout",
     "output_type": "stream",
     "text": [
      "Loss:  5.304532481745495  mAP:  0.23371154956348916\n"
     ]
    },
    {
     "name": "stderr",
     "output_type": "stream",
     "text": [
      " 49%|████▉     | 2001/4087 [11:32<12:07,  2.87it/s]"
     ]
    },
    {
     "name": "stdout",
     "output_type": "stream",
     "text": [
      "Loss:  5.299724758917723  mAP:  0.23504870540916056\n"
     ]
    },
    {
     "name": "stderr",
     "output_type": "stream",
     "text": [
      " 61%|██████    | 2501/4087 [14:25<09:24,  2.81it/s]"
     ]
    },
    {
     "name": "stdout",
     "output_type": "stream",
     "text": [
      "Loss:  5.298838559449758  mAP:  0.23597869807379532\n"
     ]
    },
    {
     "name": "stderr",
     "output_type": "stream",
     "text": [
      " 73%|███████▎  | 3001/4087 [17:19<06:15,  2.89it/s]"
     ]
    },
    {
     "name": "stdout",
     "output_type": "stream",
     "text": [
      "Loss:  5.298580882573869  mAP:  0.2350607429253045\n"
     ]
    },
    {
     "name": "stderr",
     "output_type": "stream",
     "text": [
      " 86%|████████▌ | 3501/4087 [20:13<03:29,  2.80it/s]"
     ]
    },
    {
     "name": "stdout",
     "output_type": "stream",
     "text": [
      "Loss:  5.301824397886711  mAP:  0.23397994642218933\n"
     ]
    },
    {
     "name": "stderr",
     "output_type": "stream",
     "text": [
      " 98%|█████████▊| 4001/4087 [23:09<00:30,  2.79it/s]"
     ]
    },
    {
     "name": "stdout",
     "output_type": "stream",
     "text": [
      "Loss:  5.302257740336443  mAP:  0.23316785129488335\n"
     ]
    },
    {
     "name": "stderr",
     "output_type": "stream",
     "text": [
      "                                                   \r"
     ]
    },
    {
     "name": "stdout",
     "output_type": "stream",
     "text": [
      "Epoch average Loss:  5.301822445107984\n"
     ]
    },
    {
     "name": "stderr",
     "output_type": "stream",
     "text": [
      "                                                   \r"
     ]
    },
    {
     "name": "stdout",
     "output_type": "stream",
     "text": [
      "Iou  0.05  mAP  tensor(0.0049)\n",
      "Iou  0.1  mAP  tensor(0.0033)\n",
      "Iou  0.2  mAP  tensor(0.0017)\n",
      "Iou  0.3  mAP  tensor(0.0011)\n",
      "Iou  0.4  mAP  tensor(0.0006)\n"
     ]
    },
    {
     "name": "stderr",
     "output_type": "stream",
     "text": [
      " 12%|█▏        | 501/4087 [02:53<20:37,  2.90it/s]"
     ]
    },
    {
     "name": "stdout",
     "output_type": "stream",
     "text": [
      "Loss:  5.314992585507362  mAP:  0.2324406107776119\n"
     ]
    },
    {
     "name": "stderr",
     "output_type": "stream",
     "text": [
      " 24%|██▍       | 1001/4087 [05:46<18:09,  2.83it/s]"
     ]
    },
    {
     "name": "stdout",
     "output_type": "stream",
     "text": [
      "Loss:  5.297160117755467  mAP:  0.23535719574986388\n"
     ]
    },
    {
     "name": "stderr",
     "output_type": "stream",
     "text": [
      " 37%|███▋      | 1501/4087 [08:40<14:58,  2.88it/s]"
     ]
    },
    {
     "name": "stdout",
     "output_type": "stream",
     "text": [
      "Loss:  5.305864934289778  mAP:  0.2371260475051214\n"
     ]
    },
    {
     "name": "stderr",
     "output_type": "stream",
     "text": [
      " 49%|████▉     | 2001/4087 [11:34<12:03,  2.88it/s]"
     ]
    },
    {
     "name": "stdout",
     "output_type": "stream",
     "text": [
      "Loss:  5.305222015531671  mAP:  0.23504584713607984\n"
     ]
    },
    {
     "name": "stderr",
     "output_type": "stream",
     "text": [
      " 61%|██████    | 2501/4087 [14:27<09:12,  2.87it/s]"
     ]
    },
    {
     "name": "stdout",
     "output_type": "stream",
     "text": [
      "Loss:  5.307635047495056  mAP:  0.23459555931103543\n"
     ]
    },
    {
     "name": "stderr",
     "output_type": "stream",
     "text": [
      " 73%|███████▎  | 3001/4087 [17:21<06:21,  2.84it/s]"
     ]
    },
    {
     "name": "stdout",
     "output_type": "stream",
     "text": [
      "Loss:  5.306244999065117  mAP:  0.23384102165594578\n"
     ]
    },
    {
     "name": "stderr",
     "output_type": "stream",
     "text": [
      " 86%|████████▌ | 3501/4087 [20:16<03:31,  2.78it/s]"
     ]
    },
    {
     "name": "stdout",
     "output_type": "stream",
     "text": [
      "Loss:  5.306108892988408  mAP:  0.2338083508977935\n"
     ]
    },
    {
     "name": "stderr",
     "output_type": "stream",
     "text": [
      " 98%|█████████▊| 4001/4087 [23:11<00:30,  2.81it/s]"
     ]
    },
    {
     "name": "stdout",
     "output_type": "stream",
     "text": [
      "Loss:  5.3032574908442625  mAP:  0.23308853376505412\n"
     ]
    },
    {
     "name": "stderr",
     "output_type": "stream",
     "text": [
      "                                                   \r"
     ]
    },
    {
     "name": "stdout",
     "output_type": "stream",
     "text": [
      "Epoch average Loss:  5.301822444300379\n"
     ]
    },
    {
     "name": "stderr",
     "output_type": "stream",
     "text": [
      " 12%|█▏        | 206/1753 [00:30<05:02,  5.11it/s]"
     ]
    }
   ],
   "source": [
    "if __name__ == '__main__':\n",
    "    wandb.init(\"WSDNNPIXOR\")\n",
    "    epochs = 10\n",
    "    model = WSDDNPIXOR()\n",
    "    #load_pretrained(model)\n",
    "\n",
    "    # for params in model.backbone.parameters():\n",
    "    #     params.requires_grad = False\n",
    "\n",
    "    train_dataset_length = int(0.70 * len(dataset))\n",
    "    train_dataset, test_dataset = random_split(dataset, [train_dataset_length,\n",
    "                                                        len(dataset) - train_dataset_length],\n",
    "                                                        generator=torch.Generator().manual_seed(10))\n",
    "    train_loader = DataLoader(train_dataset, batch_size=1, shuffle=True)\n",
    "    test_loader = DataLoader(test_dataset, batch_size=1, shuffle=False)\n",
    "    print(len(train_dataset), len(test_dataset))\n",
    "\n",
    "    #scaler = torch.cuda.amp.GradScaler()\n",
    "    loss_fn = nn.BCEWithLogitsLoss(reduction='sum')\n",
    "    model = model.cuda()\n",
    "    #optimizer = torch.optim.Adam(model.parameters(), lr=0.01)\n",
    "    optimizer = torch.optim.SGD(model.parameters(), lr=0.01, momentum=0.9)\n",
    "    for i in range(epochs):\n",
    "        \n",
    "        model = model.train()\n",
    "        loss = train(train_loader, model, loss_fn, optimizer, test_loader)\n",
    "        print(\"Epoch average Loss: \", loss)\n",
    "        torch.save(model.state_dict(), \"model.pth\")\n",
    "        torch.save(optimizer.state_dict(), \"opt.pth\")\n",
    "        if i%1 == 0:\n",
    "            model = model.eval()\n",
    "            mAP = validate(test_loader, \n",
    "                          model, \n",
    "                          loss_fn, \n",
    "                          inv_class=dataset.inv_class, \n",
    "                          direct_class=dataset.class_to_int)\n",
    "\n",
    "        "
   ]
  },
  {
   "cell_type": "code",
   "execution_count": null,
   "metadata": {},
   "outputs": [],
   "source": []
  }
 ],
 "metadata": {
  "interpreter": {
   "hash": "6c3d0bf33d9b8f44ad31939f703eb731b3c8c625f2f2a5d3f62cdfd1d7b0393f"
  },
  "kernelspec": {
   "display_name": "Python 3.9.12 ('vlr')",
   "language": "python",
   "name": "python3"
  },
  "language_info": {
   "codemirror_mode": {
    "name": "ipython",
    "version": 3
   },
   "file_extension": ".py",
   "mimetype": "text/x-python",
   "name": "python",
   "nbconvert_exporter": "python",
   "pygments_lexer": "ipython3",
   "version": "3.9.12"
  },
  "orig_nbformat": 4
 },
 "nbformat": 4,
 "nbformat_minor": 2
}
